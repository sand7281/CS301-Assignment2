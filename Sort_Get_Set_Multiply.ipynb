{
 "cells": [
  {
   "cell_type": "markdown",
   "metadata": {},
   "source": [
    "List()\n",
    "add(item)\n",
    "remove(item)\n",
    "search(item)\n",
    "isEmpty()\n",
    "size()\n",
    "append(item)\n",
    "index(item)\n",
    "insert(pos, item)\n",
    "pop()\n",
    "pop(pos)"
   ]
  },
  {
   "cell_type": "code",
   "execution_count": 6,
   "metadata": {},
   "outputs": [],
   "source": [
    "import random\n",
    "import time"
   ]
  },
  {
   "cell_type": "code",
   "execution_count": 77,
   "metadata": {},
   "outputs": [],
   "source": [
    "def contains_test(param1, tries):    #param1 = the item it is searching for\n",
    "    value = False\n",
    "    for i in range(tries):\n",
    "        random_list = [main()]\n",
    "        start_time = time.time()\n",
    "        #value = param1 in random_list\n",
    "        value = random_list.__contains__(param1)\n",
    "        end_time = time.time()\n",
    "        print (value)\n",
    "    #return (value)"
   ]
  },
  {
   "cell_type": "code",
   "execution_count": 3,
   "metadata": {},
   "outputs": [
    {
     "name": "stdout",
     "output_type": "stream",
     "text": [
      "[40, 29, 34, 31, 22, 33, 20, 37, 28, 32, 40, 40, 38, 36, 24, 22, 35, 31, 29, 31, 37, 31, 32, 40, 33, 32, 20, 23, 33, 34, 31, 35, 35, 38, 29, 28, 33, 25, 36, 32, 35, 31, 29, 20, 25, 37, 39, 29, 28, 28, 25, 33, 32, 39, 32, 24, 35, 40, 23, 27, 33, 32, 29, 29, 33, 25, 24, 35, 38, 29, 20, 25, 21, 39, 34, 30, 39, 21, 20, 26, 25, 36, 31, 28, 32, 30, 40, 24, 39, 29, 26, 37, 37, 21, 30, 32, 21, 26, 40, 37]\n"
     ]
    }
   ],
   "source": [
    "import random \n",
    "  \n",
    "# Function to generate \n",
    "# and append them  \n",
    "# start = starting range, \n",
    "# end = ending range \n",
    "# num = number of  \n",
    "# elements needs to be appended \n",
    "def Rand(start, end, list_size): \n",
    "    res = [] \n",
    "  \n",
    "    for j in range(list_size): \n",
    "        res.append(random.randint(start, end)) \n",
    "  \n",
    "    return res \n",
    "  \n",
    "# Driver Code \n",
    "num = 100\n",
    "start = 20\n",
    "end = 40\n",
    "print(Rand(start, end, num))"
   ]
  },
  {
   "cell_type": "code",
   "execution_count": 9,
   "metadata": {},
   "outputs": [],
   "source": [
    "num1 = 100000\n",
    "def sort_test(tries):\n",
    "    times_list = []\n",
    "    max_size_list = []\n",
    "    random_list = []\n",
    "    for i in range(tries):\n",
    "        random_list = Rand(start,end,num1)\n",
    "        start_time = time.time()\n",
    "        random_list.sort()\n",
    "        end_time = time.time()\n",
    "    return (end_time - start_time)\n",
    "        "
   ]
  },
  {
   "cell_type": "code",
   "execution_count": 10,
   "metadata": {},
   "outputs": [
    {
     "name": "stdout",
     "output_type": "stream",
     "text": [
      "0.008872032165527344\n"
     ]
    }
   ],
   "source": [
    "print(sort_test(1))"
   ]
  },
  {
   "cell_type": "code",
   "execution_count": 15,
   "metadata": {},
   "outputs": [],
   "source": [
    "num1 = 10000000\n",
    "def get_slice_test(tries):\n",
    "    times_list = []\n",
    "    max_size_list = []\n",
    "    random_list = []\n",
    "    for i in range(tries):\n",
    "        random_list = Rand(start,end,num1)\n",
    "        start_time = time.time()\n",
    "        random_list[50000:55000]\n",
    "        end_time = time.time()\n",
    "    return (end_time - start_time)   "
   ]
  },
  {
   "cell_type": "code",
   "execution_count": 17,
   "metadata": {},
   "outputs": [
    {
     "name": "stdout",
     "output_type": "stream",
     "text": [
      "92.74482727050781\n"
     ]
    }
   ],
   "source": [
    "print(1000000*get_slice_test(1))"
   ]
  },
  {
   "cell_type": "code",
   "execution_count": 23,
   "metadata": {},
   "outputs": [],
   "source": [
    "from functools import reduce\n",
    "num1 = 100000\n",
    "def multiply_test(tries):\n",
    "    times_list = []\n",
    "    max_size_list = []\n",
    "    random_list = []\n",
    "    for i in range(tries):\n",
    "        random_list = Rand(start,end,num1)\n",
    "        start_time = time.time()\n",
    "        reduce(lambda x, y: x*y, random_list)\n",
    "        end_time = time.time()\n",
    "    return (end_time - start_time)"
   ]
  },
  {
   "cell_type": "code",
   "execution_count": 24,
   "metadata": {},
   "outputs": [
    {
     "name": "stdout",
     "output_type": "stream",
     "text": [
      "1.4960713386535645\n"
     ]
    }
   ],
   "source": [
    "print(multiply_test(1))"
   ]
  },
  {
   "cell_type": "code",
   "execution_count": 27,
   "metadata": {},
   "outputs": [],
   "source": [
    "num1 = 1000000\n",
    "def set_slice_test(tries):\n",
    "    times_list = []\n",
    "    max_size_list = []\n",
    "    random_list = []\n",
    "    for i in range(tries):\n",
    "        random_list = Rand(start,end,num1)\n",
    "        start_time = time.time()\n",
    "        some_data = [1, 2, 4, 1, 6, 23, 3, 56, 6, 2, 3, 5, 6, 32, 2, 12, 5, 3, 2]\n",
    "        random_list = set(some_data)\n",
    "        end_time = time.time()\n",
    "    return (end_time - start_time)"
   ]
  },
  {
   "cell_type": "code",
   "execution_count": 28,
   "metadata": {},
   "outputs": [
    {
     "name": "stdout",
     "output_type": "stream",
     "text": [
      "0.0024950504302978516\n"
     ]
    }
   ],
   "source": [
    "print(set_slice_test(1))"
   ]
  },
  {
   "cell_type": "code",
   "execution_count": null,
   "metadata": {},
   "outputs": [],
   "source": []
  }
 ],
 "metadata": {
  "kernelspec": {
   "display_name": "Python 3",
   "language": "python",
   "name": "python3"
  },
  "language_info": {
   "codemirror_mode": {
    "name": "ipython",
    "version": 3
   },
   "file_extension": ".py",
   "mimetype": "text/x-python",
   "name": "python",
   "nbconvert_exporter": "python",
   "pygments_lexer": "ipython3",
   "version": "3.7.3"
  }
 },
 "nbformat": 4,
 "nbformat_minor": 4
}
